{
 "cells": [
  {
   "cell_type": "markdown",
   "id": "3d30f548",
   "metadata": {},
   "source": [
    "# Data Science Python Assignment"
   ]
  },
  {
   "cell_type": "markdown",
   "id": "ba74bbf3",
   "metadata": {},
   "source": [
    "Q.1) Explain with an example each to use a for loop and while loop ."
   ]
  },
  {
   "cell_type": "code",
   "execution_count": 3,
   "id": "5f99caf5",
   "metadata": {},
   "outputs": [
    {
     "name": "stdout",
     "output_type": "stream",
     "text": [
      "1\n",
      "2\n",
      "3\n",
      "4\n",
      "5\n"
     ]
    }
   ],
   "source": [
    "#For Loop Example\n",
    "#A for loop is typically used when you know the number of iterations in advance. It iterates over a sequence (like a list, tuple, or string).\n",
    "\n",
    "#Example: Iterating over a list of numbers and printing each number:\n",
    "\n",
    "\n",
    "\n",
    "numbers = [1, 2, 3, 4, 5]\n",
    "for number in numbers:\n",
    "    print(number)\n",
    "\n",
    "\n"
   ]
  },
  {
   "cell_type": "code",
   "execution_count": 4,
   "id": "b68ddee9",
   "metadata": {},
   "outputs": [
    {
     "name": "stdout",
     "output_type": "stream",
     "text": [
      "1\n",
      "2\n",
      "3\n",
      "4\n",
      "5\n"
     ]
    }
   ],
   "source": [
    "# While Loop Example\n",
    "# A while loop is used when you want to repeat a block of code as long as a condition is true. It’s useful when the number of iterations is not known beforehand.\n",
    "\n",
    "# Example: Printing numbers from 1 to 5:\n",
    "\n",
    "\n",
    "\n",
    "i = 1\n",
    "while i <= 5:\n",
    "    print(i)\n",
    "    i += 1"
   ]
  },
  {
   "cell_type": "markdown",
   "id": "61bf207e",
   "metadata": {},
   "source": [
    "Q.2) Write a python program to print the sum and product of the first 10 natural numbers using for and while loop."
   ]
  },
  {
   "cell_type": "code",
   "execution_count": 5,
   "id": "2cd7f802",
   "metadata": {},
   "outputs": [
    {
     "name": "stdout",
     "output_type": "stream",
     "text": [
      "Sum using for loop: 55\n",
      "Product using for loop: 3628800\n"
     ]
    }
   ],
   "source": [
    "# Using for loop to calculate sum and product\n",
    "sum_for = 0\n",
    "product_for = 1\n",
    "\n",
    "for i in range(1, 11):\n",
    "    sum_for += i\n",
    "    product_for *= i\n",
    "\n",
    "print(\"Sum using for loop:\", sum_for)\n",
    "print(\"Product using for loop:\", product_for)"
   ]
  },
  {
   "cell_type": "code",
   "execution_count": 6,
   "id": "bf413b82",
   "metadata": {},
   "outputs": [
    {
     "name": "stdout",
     "output_type": "stream",
     "text": [
      "Sum using while loop: 55\n",
      "Product using while loop: 3628800\n"
     ]
    }
   ],
   "source": [
    "# Using while loop to calculate sum and product\n",
    "sum_while = 0\n",
    "product_while = 1\n",
    "i = 1\n",
    "\n",
    "while i <= 10:\n",
    "    sum_while += i\n",
    "    product_while *= i\n",
    "    i += 1\n",
    "\n",
    "print(\"Sum using while loop:\", sum_while)\n",
    "print(\"Product using while loop:\", product_while)"
   ]
  },
  {
   "cell_type": "markdown",
   "id": "e8693e14",
   "metadata": {},
   "source": [
    "Q.3) Create a python program to compute the electricity bill for a household.\n",
    "\n",
    "the per unit charge in rupees as follows:for the first 100 units. the user will be charged Rs.4.5 per unit,for the nest 100 units, the user will be charged Rs.6 per unit. anf for next 100 units,\n",
    "    the user will be charged Rs.10 per unit. after 300 units and above the user will be charged Rs.20per unit.\n",
    "    \n",
    "    you are required to take the units of electricity consumed in a month from the user as input.\n",
    "    \n",
    "    your program must pass this test case:when the unit of electricity consumed by the user in a month is 310, the total electricity bill should be 2250."
   ]
  },
  {
   "cell_type": "code",
   "execution_count": 13,
   "id": "e826ca19",
   "metadata": {},
   "outputs": [
    {
     "name": "stdout",
     "output_type": "stream",
     "text": [
      "Enter the units of electricity consumed: 310\n",
      "The total electricity bill is: Rs. 2250.0\n"
     ]
    }
   ],
   "source": [
    "def calculate_electricity_bill(units):\n",
    "    if units <= 100:\n",
    "        bill = units * 4.5\n",
    "    elif units <= 200:\n",
    "        bill = (100 * 4.5) + ((units - 100) * 6)\n",
    "    elif units <= 300:\n",
    "        bill = (100 * 4.5) + (100 * 6) + ((units - 200) * 10)\n",
    "    else:\n",
    "        bill = (100 * 4.5) + (100 * 6) + (100 * 10) + ((units - 300) * 20)\n",
    "    return bill\n",
    "\n",
    "# Taking input from the user\n",
    "try:\n",
    "    units_consumed = int(input(\"Enter the units of electricity consumed: \"))\n",
    "    total_bill = calculate_electricity_bill(units_consumed)\n",
    "    print(f\"The total electricity bill is: Rs. {total_bill}\")\n",
    "    \n",
    "except ValueError:\n",
    "    print(\"Please enter a valid number for the units consumed.\")\n",
    "\n",
    "# Test case\n",
    "assert calculate_electricity_bill(310) == 2250, \"Test case failed!\"    "
   ]
  },
  {
   "cell_type": "markdown",
   "id": "02187fa2",
   "metadata": {},
   "source": [
    "Q.4) Create a list of numbers from 1 to 100. use for loop and while loop to calculate the cube of each number and if the cube of that number in a list and print that list."
   ]
  },
  {
   "cell_type": "code",
   "execution_count": 14,
   "id": "38eed006",
   "metadata": {},
   "outputs": [
    {
     "name": "stdout",
     "output_type": "stream",
     "text": [
      "Cubes using for loop: [1, 8, 27, 64, 125, 216, 343, 512, 729, 1000, 1331, 1728, 2197, 2744, 3375, 4096, 4913, 5832, 6859, 8000, 9261, 10648, 12167, 13824, 15625, 17576, 19683, 21952, 24389, 27000, 29791, 32768, 35937, 39304, 42875, 46656, 50653, 54872, 59319, 64000, 68921, 74088, 79507, 85184, 91125, 97336, 103823, 110592, 117649, 125000, 132651, 140608, 148877, 157464, 166375, 175616, 185193, 195112, 205379, 216000, 226981, 238328, 250047, 262144, 274625, 287496, 300763, 314432, 328509, 343000, 357911, 373248, 389017, 405224, 421875, 438976, 456533, 474552, 493039, 512000, 531441, 551368, 571787, 592704, 614125, 636056, 658503, 681472, 704969, 729000, 753571, 778688, 804357, 830584, 857375, 884736, 912673, 941192, 970299, 1000000]\n"
     ]
    }
   ],
   "source": [
    "numbers = list(range(1, 101))\n",
    "\n",
    "# Calculate the cube of each number using a for loop\n",
    "cubes_for = []\n",
    "for number in numbers:\n",
    "    cubes_for.append(number ** 3)\n",
    "\n",
    "print(\"Cubes using for loop:\", cubes_for)"
   ]
  },
  {
   "cell_type": "code",
   "execution_count": 15,
   "id": "f3043ca8",
   "metadata": {},
   "outputs": [
    {
     "name": "stdout",
     "output_type": "stream",
     "text": [
      "Cubes using while loop: [1, 8, 27, 64, 125, 216, 343, 512, 729, 1000, 1331, 1728, 2197, 2744, 3375, 4096, 4913, 5832, 6859, 8000, 9261, 10648, 12167, 13824, 15625, 17576, 19683, 21952, 24389, 27000, 29791, 32768, 35937, 39304, 42875, 46656, 50653, 54872, 59319, 64000, 68921, 74088, 79507, 85184, 91125, 97336, 103823, 110592, 117649, 125000, 132651, 140608, 148877, 157464, 166375, 175616, 185193, 195112, 205379, 216000, 226981, 238328, 250047, 262144, 274625, 287496, 300763, 314432, 328509, 343000, 357911, 373248, 389017, 405224, 421875, 438976, 456533, 474552, 493039, 512000, 531441, 551368, 571787, 592704, 614125, 636056, 658503, 681472, 704969, 729000, 753571, 778688, 804357, 830584, 857375, 884736, 912673, 941192, 970299, 1000000]\n"
     ]
    }
   ],
   "source": [
    "# Using while loop\n",
    "cubes_while = []\n",
    "i = 0\n",
    "while i < len(numbers):\n",
    "    cubes_while.append(numbers[i] ** 3)\n",
    "    i += 1\n",
    "print(\"Cubes using while loop:\", cubes_while)"
   ]
  },
  {
   "cell_type": "markdown",
   "id": "b47309ca",
   "metadata": {},
   "source": [
    "Q.5) Write a program to filter count vowels in the below-given string.\n",
    "string=\"I want to become a data scientist\""
   ]
  },
  {
   "cell_type": "code",
   "execution_count": 16,
   "id": "fb16ad00",
   "metadata": {},
   "outputs": [
    {
     "name": "stdout",
     "output_type": "stream",
     "text": [
      "The number of vowels in the string is: 12\n"
     ]
    }
   ],
   "source": [
    "def count_vowels(input_string):\n",
    "    vowels = 'aeiouAEIOU'\n",
    "    count = 0\n",
    "    for char in input_string:\n",
    "        if char in vowels:\n",
    "            count += 1\n",
    "    return count\n",
    "\n",
    "# Given string\n",
    "string = \"I want to become a data scientist\"\n",
    "\n",
    "# Counting vowels\n",
    "vowel_count = count_vowels(string)\n",
    "print(f\"The number of vowels in the string is: {vowel_count}\")\n"
   ]
  },
  {
   "cell_type": "code",
   "execution_count": null,
   "id": "58e3837d",
   "metadata": {},
   "outputs": [],
   "source": []
  }
 ],
 "metadata": {
  "kernelspec": {
   "display_name": "Python 3 (ipykernel)",
   "language": "python",
   "name": "python3"
  },
  "language_info": {
   "codemirror_mode": {
    "name": "ipython",
    "version": 3
   },
   "file_extension": ".py",
   "mimetype": "text/x-python",
   "name": "python",
   "nbconvert_exporter": "python",
   "pygments_lexer": "ipython3",
   "version": "3.11.5"
  }
 },
 "nbformat": 4,
 "nbformat_minor": 5
}
